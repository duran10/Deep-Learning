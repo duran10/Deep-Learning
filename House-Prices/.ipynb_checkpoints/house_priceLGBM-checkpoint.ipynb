{
 "cells": [
  {
   "cell_type": "markdown",
   "metadata": {},
   "source": [
    "#                               House Prices Prediction"
   ]
  },
  {
   "cell_type": "markdown",
   "metadata": {},
   "source": [
    "### Import Libraries"
   ]
  },
  {
   "cell_type": "code",
   "execution_count": 1,
   "metadata": {},
   "outputs": [],
   "source": [
    "import pandas as pd\n",
    "import numpy as np\n",
    "import matplotlib.pyplot as plt\n",
    "from sklearn.pipeline import Pipeline\n",
    "from sklearn.impute import SimpleImputer\n",
    "from sklearn.preprocessing import StandardScaler, OrdinalEncoder, OneHotEncoder\n",
    "from sklearn.linear_model import LogisticRegression, LinearRegression\n",
    "from sklearn.compose import ColumnTransformer\n",
    "from sklearn.metrics import mean_squared_error\n",
    "from sklearn.tree import DecisionTreeRegressor\n",
    "from sklearn.ensemble import RandomForestRegressor\n",
    "from sklearn.svm import SVR\n",
    "from sklearn.model_selection import cross_val_score, GridSearchCV\n",
    "from sklearn.model_selection import train_test_split\n",
    "import tensorflow as tf\n",
    "from tensorflow.keras import Sequential    # import Sequential from tensorflow.keras\n",
    "from tensorflow.keras.layers import Dense  # import Dense from tensorflow.keras.layers\n",
    "from numpy.random import seed     # seed helps you to fix the randomness in the neural network.  \n",
    "from tensorflow import keras\n",
    "import keras_tuner as kt\n",
    "from tensorflow.keras import layers\n",
    "from tensorflow.keras.layers.experimental import preprocessing\n"
   ]
  },
  {
   "cell_type": "markdown",
   "metadata": {},
   "source": [
    "### Read Data"
   ]
  },
  {
   "cell_type": "code",
   "execution_count": 2,
   "metadata": {},
   "outputs": [
    {
     "data": {
      "text/html": [
       "<div>\n",
       "<style scoped>\n",
       "    .dataframe tbody tr th:only-of-type {\n",
       "        vertical-align: middle;\n",
       "    }\n",
       "\n",
       "    .dataframe tbody tr th {\n",
       "        vertical-align: top;\n",
       "    }\n",
       "\n",
       "    .dataframe thead th {\n",
       "        text-align: right;\n",
       "    }\n",
       "</style>\n",
       "<table border=\"1\" class=\"dataframe\">\n",
       "  <thead>\n",
       "    <tr style=\"text-align: right;\">\n",
       "      <th></th>\n",
       "      <th>MSSubClass</th>\n",
       "      <th>MSZoning</th>\n",
       "      <th>LotFrontage</th>\n",
       "      <th>LotArea</th>\n",
       "      <th>Street</th>\n",
       "      <th>Alley</th>\n",
       "      <th>LotShape</th>\n",
       "      <th>LandContour</th>\n",
       "      <th>Utilities</th>\n",
       "      <th>LotConfig</th>\n",
       "      <th>...</th>\n",
       "      <th>PoolArea</th>\n",
       "      <th>PoolQC</th>\n",
       "      <th>Fence</th>\n",
       "      <th>MiscFeature</th>\n",
       "      <th>MiscVal</th>\n",
       "      <th>MoSold</th>\n",
       "      <th>YrSold</th>\n",
       "      <th>SaleType</th>\n",
       "      <th>SaleCondition</th>\n",
       "      <th>SalePrice</th>\n",
       "    </tr>\n",
       "    <tr>\n",
       "      <th>Id</th>\n",
       "      <th></th>\n",
       "      <th></th>\n",
       "      <th></th>\n",
       "      <th></th>\n",
       "      <th></th>\n",
       "      <th></th>\n",
       "      <th></th>\n",
       "      <th></th>\n",
       "      <th></th>\n",
       "      <th></th>\n",
       "      <th></th>\n",
       "      <th></th>\n",
       "      <th></th>\n",
       "      <th></th>\n",
       "      <th></th>\n",
       "      <th></th>\n",
       "      <th></th>\n",
       "      <th></th>\n",
       "      <th></th>\n",
       "      <th></th>\n",
       "      <th></th>\n",
       "    </tr>\n",
       "  </thead>\n",
       "  <tbody>\n",
       "    <tr>\n",
       "      <th>1</th>\n",
       "      <td>60</td>\n",
       "      <td>RL</td>\n",
       "      <td>65.0</td>\n",
       "      <td>8450</td>\n",
       "      <td>Pave</td>\n",
       "      <td>NaN</td>\n",
       "      <td>Reg</td>\n",
       "      <td>Lvl</td>\n",
       "      <td>AllPub</td>\n",
       "      <td>Inside</td>\n",
       "      <td>...</td>\n",
       "      <td>0</td>\n",
       "      <td>NaN</td>\n",
       "      <td>NaN</td>\n",
       "      <td>NaN</td>\n",
       "      <td>0</td>\n",
       "      <td>2</td>\n",
       "      <td>2008</td>\n",
       "      <td>WD</td>\n",
       "      <td>Normal</td>\n",
       "      <td>208500</td>\n",
       "    </tr>\n",
       "    <tr>\n",
       "      <th>2</th>\n",
       "      <td>20</td>\n",
       "      <td>RL</td>\n",
       "      <td>80.0</td>\n",
       "      <td>9600</td>\n",
       "      <td>Pave</td>\n",
       "      <td>NaN</td>\n",
       "      <td>Reg</td>\n",
       "      <td>Lvl</td>\n",
       "      <td>AllPub</td>\n",
       "      <td>FR2</td>\n",
       "      <td>...</td>\n",
       "      <td>0</td>\n",
       "      <td>NaN</td>\n",
       "      <td>NaN</td>\n",
       "      <td>NaN</td>\n",
       "      <td>0</td>\n",
       "      <td>5</td>\n",
       "      <td>2007</td>\n",
       "      <td>WD</td>\n",
       "      <td>Normal</td>\n",
       "      <td>181500</td>\n",
       "    </tr>\n",
       "    <tr>\n",
       "      <th>3</th>\n",
       "      <td>60</td>\n",
       "      <td>RL</td>\n",
       "      <td>68.0</td>\n",
       "      <td>11250</td>\n",
       "      <td>Pave</td>\n",
       "      <td>NaN</td>\n",
       "      <td>IR1</td>\n",
       "      <td>Lvl</td>\n",
       "      <td>AllPub</td>\n",
       "      <td>Inside</td>\n",
       "      <td>...</td>\n",
       "      <td>0</td>\n",
       "      <td>NaN</td>\n",
       "      <td>NaN</td>\n",
       "      <td>NaN</td>\n",
       "      <td>0</td>\n",
       "      <td>9</td>\n",
       "      <td>2008</td>\n",
       "      <td>WD</td>\n",
       "      <td>Normal</td>\n",
       "      <td>223500</td>\n",
       "    </tr>\n",
       "    <tr>\n",
       "      <th>4</th>\n",
       "      <td>70</td>\n",
       "      <td>RL</td>\n",
       "      <td>60.0</td>\n",
       "      <td>9550</td>\n",
       "      <td>Pave</td>\n",
       "      <td>NaN</td>\n",
       "      <td>IR1</td>\n",
       "      <td>Lvl</td>\n",
       "      <td>AllPub</td>\n",
       "      <td>Corner</td>\n",
       "      <td>...</td>\n",
       "      <td>0</td>\n",
       "      <td>NaN</td>\n",
       "      <td>NaN</td>\n",
       "      <td>NaN</td>\n",
       "      <td>0</td>\n",
       "      <td>2</td>\n",
       "      <td>2006</td>\n",
       "      <td>WD</td>\n",
       "      <td>Abnorml</td>\n",
       "      <td>140000</td>\n",
       "    </tr>\n",
       "    <tr>\n",
       "      <th>5</th>\n",
       "      <td>60</td>\n",
       "      <td>RL</td>\n",
       "      <td>84.0</td>\n",
       "      <td>14260</td>\n",
       "      <td>Pave</td>\n",
       "      <td>NaN</td>\n",
       "      <td>IR1</td>\n",
       "      <td>Lvl</td>\n",
       "      <td>AllPub</td>\n",
       "      <td>FR2</td>\n",
       "      <td>...</td>\n",
       "      <td>0</td>\n",
       "      <td>NaN</td>\n",
       "      <td>NaN</td>\n",
       "      <td>NaN</td>\n",
       "      <td>0</td>\n",
       "      <td>12</td>\n",
       "      <td>2008</td>\n",
       "      <td>WD</td>\n",
       "      <td>Normal</td>\n",
       "      <td>250000</td>\n",
       "    </tr>\n",
       "  </tbody>\n",
       "</table>\n",
       "<p>5 rows × 80 columns</p>\n",
       "</div>"
      ],
      "text/plain": [
       "    MSSubClass MSZoning  LotFrontage  LotArea Street Alley LotShape  \\\n",
       "Id                                                                    \n",
       "1           60       RL         65.0     8450   Pave   NaN      Reg   \n",
       "2           20       RL         80.0     9600   Pave   NaN      Reg   \n",
       "3           60       RL         68.0    11250   Pave   NaN      IR1   \n",
       "4           70       RL         60.0     9550   Pave   NaN      IR1   \n",
       "5           60       RL         84.0    14260   Pave   NaN      IR1   \n",
       "\n",
       "   LandContour Utilities LotConfig  ... PoolArea PoolQC Fence MiscFeature  \\\n",
       "Id                                  ...                                     \n",
       "1          Lvl    AllPub    Inside  ...        0    NaN   NaN         NaN   \n",
       "2          Lvl    AllPub       FR2  ...        0    NaN   NaN         NaN   \n",
       "3          Lvl    AllPub    Inside  ...        0    NaN   NaN         NaN   \n",
       "4          Lvl    AllPub    Corner  ...        0    NaN   NaN         NaN   \n",
       "5          Lvl    AllPub       FR2  ...        0    NaN   NaN         NaN   \n",
       "\n",
       "   MiscVal MoSold  YrSold  SaleType  SaleCondition  SalePrice  \n",
       "Id                                                             \n",
       "1        0      2    2008        WD         Normal     208500  \n",
       "2        0      5    2007        WD         Normal     181500  \n",
       "3        0      9    2008        WD         Normal     223500  \n",
       "4        0      2    2006        WD        Abnorml     140000  \n",
       "5        0     12    2008        WD         Normal     250000  \n",
       "\n",
       "[5 rows x 80 columns]"
      ]
     },
     "execution_count": 2,
     "metadata": {},
     "output_type": "execute_result"
    }
   ],
   "source": [
    "housing = pd.read_csv('train.csv')\n",
    "housing = housing.set_index('Id')\n",
    "housing.head()"
   ]
  },
  {
   "cell_type": "code",
   "execution_count": 3,
   "metadata": {},
   "outputs": [
    {
     "data": {
      "text/plain": [
       "MSSubClass         0\n",
       "MSZoning           0\n",
       "LotFrontage      259\n",
       "LotArea            0\n",
       "Street             0\n",
       "                ... \n",
       "MoSold             0\n",
       "YrSold             0\n",
       "SaleType           0\n",
       "SaleCondition      0\n",
       "SalePrice          0\n",
       "Length: 80, dtype: int64"
      ]
     },
     "execution_count": 3,
     "metadata": {},
     "output_type": "execute_result"
    }
   ],
   "source": [
    "housing.isnull().sum()"
   ]
  },
  {
   "cell_type": "code",
   "execution_count": 4,
   "metadata": {},
   "outputs": [
    {
     "data": {
      "text/html": [
       "<div>\n",
       "<style scoped>\n",
       "    .dataframe tbody tr th:only-of-type {\n",
       "        vertical-align: middle;\n",
       "    }\n",
       "\n",
       "    .dataframe tbody tr th {\n",
       "        vertical-align: top;\n",
       "    }\n",
       "\n",
       "    .dataframe thead th {\n",
       "        text-align: right;\n",
       "    }\n",
       "</style>\n",
       "<table border=\"1\" class=\"dataframe\">\n",
       "  <thead>\n",
       "    <tr style=\"text-align: right;\">\n",
       "      <th></th>\n",
       "      <th>MSSubClass</th>\n",
       "      <th>LotFrontage</th>\n",
       "      <th>LotArea</th>\n",
       "      <th>OverallQual</th>\n",
       "      <th>OverallCond</th>\n",
       "      <th>YearBuilt</th>\n",
       "      <th>YearRemodAdd</th>\n",
       "      <th>MasVnrArea</th>\n",
       "      <th>BsmtFinSF1</th>\n",
       "      <th>BsmtFinSF2</th>\n",
       "      <th>...</th>\n",
       "      <th>WoodDeckSF</th>\n",
       "      <th>OpenPorchSF</th>\n",
       "      <th>EnclosedPorch</th>\n",
       "      <th>3SsnPorch</th>\n",
       "      <th>ScreenPorch</th>\n",
       "      <th>PoolArea</th>\n",
       "      <th>MiscVal</th>\n",
       "      <th>MoSold</th>\n",
       "      <th>YrSold</th>\n",
       "      <th>SalePrice</th>\n",
       "    </tr>\n",
       "  </thead>\n",
       "  <tbody>\n",
       "    <tr>\n",
       "      <th>count</th>\n",
       "      <td>1460.000000</td>\n",
       "      <td>1201.000000</td>\n",
       "      <td>1460.000000</td>\n",
       "      <td>1460.000000</td>\n",
       "      <td>1460.000000</td>\n",
       "      <td>1460.000000</td>\n",
       "      <td>1460.000000</td>\n",
       "      <td>1452.000000</td>\n",
       "      <td>1460.000000</td>\n",
       "      <td>1460.000000</td>\n",
       "      <td>...</td>\n",
       "      <td>1460.000000</td>\n",
       "      <td>1460.000000</td>\n",
       "      <td>1460.000000</td>\n",
       "      <td>1460.000000</td>\n",
       "      <td>1460.000000</td>\n",
       "      <td>1460.000000</td>\n",
       "      <td>1460.000000</td>\n",
       "      <td>1460.000000</td>\n",
       "      <td>1460.000000</td>\n",
       "      <td>1460.000000</td>\n",
       "    </tr>\n",
       "    <tr>\n",
       "      <th>mean</th>\n",
       "      <td>56.897260</td>\n",
       "      <td>70.049958</td>\n",
       "      <td>10516.828082</td>\n",
       "      <td>6.099315</td>\n",
       "      <td>5.575342</td>\n",
       "      <td>1971.267808</td>\n",
       "      <td>1984.865753</td>\n",
       "      <td>103.685262</td>\n",
       "      <td>443.639726</td>\n",
       "      <td>46.549315</td>\n",
       "      <td>...</td>\n",
       "      <td>94.244521</td>\n",
       "      <td>46.660274</td>\n",
       "      <td>21.954110</td>\n",
       "      <td>3.409589</td>\n",
       "      <td>15.060959</td>\n",
       "      <td>2.758904</td>\n",
       "      <td>43.489041</td>\n",
       "      <td>6.321918</td>\n",
       "      <td>2007.815753</td>\n",
       "      <td>180921.195890</td>\n",
       "    </tr>\n",
       "    <tr>\n",
       "      <th>std</th>\n",
       "      <td>42.300571</td>\n",
       "      <td>24.284752</td>\n",
       "      <td>9981.264932</td>\n",
       "      <td>1.382997</td>\n",
       "      <td>1.112799</td>\n",
       "      <td>30.202904</td>\n",
       "      <td>20.645407</td>\n",
       "      <td>181.066207</td>\n",
       "      <td>456.098091</td>\n",
       "      <td>161.319273</td>\n",
       "      <td>...</td>\n",
       "      <td>125.338794</td>\n",
       "      <td>66.256028</td>\n",
       "      <td>61.119149</td>\n",
       "      <td>29.317331</td>\n",
       "      <td>55.757415</td>\n",
       "      <td>40.177307</td>\n",
       "      <td>496.123024</td>\n",
       "      <td>2.703626</td>\n",
       "      <td>1.328095</td>\n",
       "      <td>79442.502883</td>\n",
       "    </tr>\n",
       "    <tr>\n",
       "      <th>min</th>\n",
       "      <td>20.000000</td>\n",
       "      <td>21.000000</td>\n",
       "      <td>1300.000000</td>\n",
       "      <td>1.000000</td>\n",
       "      <td>1.000000</td>\n",
       "      <td>1872.000000</td>\n",
       "      <td>1950.000000</td>\n",
       "      <td>0.000000</td>\n",
       "      <td>0.000000</td>\n",
       "      <td>0.000000</td>\n",
       "      <td>...</td>\n",
       "      <td>0.000000</td>\n",
       "      <td>0.000000</td>\n",
       "      <td>0.000000</td>\n",
       "      <td>0.000000</td>\n",
       "      <td>0.000000</td>\n",
       "      <td>0.000000</td>\n",
       "      <td>0.000000</td>\n",
       "      <td>1.000000</td>\n",
       "      <td>2006.000000</td>\n",
       "      <td>34900.000000</td>\n",
       "    </tr>\n",
       "    <tr>\n",
       "      <th>25%</th>\n",
       "      <td>20.000000</td>\n",
       "      <td>59.000000</td>\n",
       "      <td>7553.500000</td>\n",
       "      <td>5.000000</td>\n",
       "      <td>5.000000</td>\n",
       "      <td>1954.000000</td>\n",
       "      <td>1967.000000</td>\n",
       "      <td>0.000000</td>\n",
       "      <td>0.000000</td>\n",
       "      <td>0.000000</td>\n",
       "      <td>...</td>\n",
       "      <td>0.000000</td>\n",
       "      <td>0.000000</td>\n",
       "      <td>0.000000</td>\n",
       "      <td>0.000000</td>\n",
       "      <td>0.000000</td>\n",
       "      <td>0.000000</td>\n",
       "      <td>0.000000</td>\n",
       "      <td>5.000000</td>\n",
       "      <td>2007.000000</td>\n",
       "      <td>129975.000000</td>\n",
       "    </tr>\n",
       "    <tr>\n",
       "      <th>50%</th>\n",
       "      <td>50.000000</td>\n",
       "      <td>69.000000</td>\n",
       "      <td>9478.500000</td>\n",
       "      <td>6.000000</td>\n",
       "      <td>5.000000</td>\n",
       "      <td>1973.000000</td>\n",
       "      <td>1994.000000</td>\n",
       "      <td>0.000000</td>\n",
       "      <td>383.500000</td>\n",
       "      <td>0.000000</td>\n",
       "      <td>...</td>\n",
       "      <td>0.000000</td>\n",
       "      <td>25.000000</td>\n",
       "      <td>0.000000</td>\n",
       "      <td>0.000000</td>\n",
       "      <td>0.000000</td>\n",
       "      <td>0.000000</td>\n",
       "      <td>0.000000</td>\n",
       "      <td>6.000000</td>\n",
       "      <td>2008.000000</td>\n",
       "      <td>163000.000000</td>\n",
       "    </tr>\n",
       "    <tr>\n",
       "      <th>75%</th>\n",
       "      <td>70.000000</td>\n",
       "      <td>80.000000</td>\n",
       "      <td>11601.500000</td>\n",
       "      <td>7.000000</td>\n",
       "      <td>6.000000</td>\n",
       "      <td>2000.000000</td>\n",
       "      <td>2004.000000</td>\n",
       "      <td>166.000000</td>\n",
       "      <td>712.250000</td>\n",
       "      <td>0.000000</td>\n",
       "      <td>...</td>\n",
       "      <td>168.000000</td>\n",
       "      <td>68.000000</td>\n",
       "      <td>0.000000</td>\n",
       "      <td>0.000000</td>\n",
       "      <td>0.000000</td>\n",
       "      <td>0.000000</td>\n",
       "      <td>0.000000</td>\n",
       "      <td>8.000000</td>\n",
       "      <td>2009.000000</td>\n",
       "      <td>214000.000000</td>\n",
       "    </tr>\n",
       "    <tr>\n",
       "      <th>max</th>\n",
       "      <td>190.000000</td>\n",
       "      <td>313.000000</td>\n",
       "      <td>215245.000000</td>\n",
       "      <td>10.000000</td>\n",
       "      <td>9.000000</td>\n",
       "      <td>2010.000000</td>\n",
       "      <td>2010.000000</td>\n",
       "      <td>1600.000000</td>\n",
       "      <td>5644.000000</td>\n",
       "      <td>1474.000000</td>\n",
       "      <td>...</td>\n",
       "      <td>857.000000</td>\n",
       "      <td>547.000000</td>\n",
       "      <td>552.000000</td>\n",
       "      <td>508.000000</td>\n",
       "      <td>480.000000</td>\n",
       "      <td>738.000000</td>\n",
       "      <td>15500.000000</td>\n",
       "      <td>12.000000</td>\n",
       "      <td>2010.000000</td>\n",
       "      <td>755000.000000</td>\n",
       "    </tr>\n",
       "  </tbody>\n",
       "</table>\n",
       "<p>8 rows × 37 columns</p>\n",
       "</div>"
      ],
      "text/plain": [
       "        MSSubClass  LotFrontage        LotArea  OverallQual  OverallCond  \\\n",
       "count  1460.000000  1201.000000    1460.000000  1460.000000  1460.000000   \n",
       "mean     56.897260    70.049958   10516.828082     6.099315     5.575342   \n",
       "std      42.300571    24.284752    9981.264932     1.382997     1.112799   \n",
       "min      20.000000    21.000000    1300.000000     1.000000     1.000000   \n",
       "25%      20.000000    59.000000    7553.500000     5.000000     5.000000   \n",
       "50%      50.000000    69.000000    9478.500000     6.000000     5.000000   \n",
       "75%      70.000000    80.000000   11601.500000     7.000000     6.000000   \n",
       "max     190.000000   313.000000  215245.000000    10.000000     9.000000   \n",
       "\n",
       "         YearBuilt  YearRemodAdd   MasVnrArea   BsmtFinSF1   BsmtFinSF2  ...  \\\n",
       "count  1460.000000   1460.000000  1452.000000  1460.000000  1460.000000  ...   \n",
       "mean   1971.267808   1984.865753   103.685262   443.639726    46.549315  ...   \n",
       "std      30.202904     20.645407   181.066207   456.098091   161.319273  ...   \n",
       "min    1872.000000   1950.000000     0.000000     0.000000     0.000000  ...   \n",
       "25%    1954.000000   1967.000000     0.000000     0.000000     0.000000  ...   \n",
       "50%    1973.000000   1994.000000     0.000000   383.500000     0.000000  ...   \n",
       "75%    2000.000000   2004.000000   166.000000   712.250000     0.000000  ...   \n",
       "max    2010.000000   2010.000000  1600.000000  5644.000000  1474.000000  ...   \n",
       "\n",
       "        WoodDeckSF  OpenPorchSF  EnclosedPorch    3SsnPorch  ScreenPorch  \\\n",
       "count  1460.000000  1460.000000    1460.000000  1460.000000  1460.000000   \n",
       "mean     94.244521    46.660274      21.954110     3.409589    15.060959   \n",
       "std     125.338794    66.256028      61.119149    29.317331    55.757415   \n",
       "min       0.000000     0.000000       0.000000     0.000000     0.000000   \n",
       "25%       0.000000     0.000000       0.000000     0.000000     0.000000   \n",
       "50%       0.000000    25.000000       0.000000     0.000000     0.000000   \n",
       "75%     168.000000    68.000000       0.000000     0.000000     0.000000   \n",
       "max     857.000000   547.000000     552.000000   508.000000   480.000000   \n",
       "\n",
       "          PoolArea       MiscVal       MoSold       YrSold      SalePrice  \n",
       "count  1460.000000   1460.000000  1460.000000  1460.000000    1460.000000  \n",
       "mean      2.758904     43.489041     6.321918  2007.815753  180921.195890  \n",
       "std      40.177307    496.123024     2.703626     1.328095   79442.502883  \n",
       "min       0.000000      0.000000     1.000000  2006.000000   34900.000000  \n",
       "25%       0.000000      0.000000     5.000000  2007.000000  129975.000000  \n",
       "50%       0.000000      0.000000     6.000000  2008.000000  163000.000000  \n",
       "75%       0.000000      0.000000     8.000000  2009.000000  214000.000000  \n",
       "max     738.000000  15500.000000    12.000000  2010.000000  755000.000000  \n",
       "\n",
       "[8 rows x 37 columns]"
      ]
     },
     "execution_count": 4,
     "metadata": {},
     "output_type": "execute_result"
    }
   ],
   "source": [
    "housing.describe()"
   ]
  },
  {
   "cell_type": "code",
   "execution_count": 5,
   "metadata": {},
   "outputs": [
    {
     "name": "stdout",
     "output_type": "stream",
     "text": [
      "<class 'pandas.core.frame.DataFrame'>\n",
      "Int64Index: 1460 entries, 1 to 1460\n",
      "Data columns (total 80 columns):\n",
      " #   Column         Non-Null Count  Dtype  \n",
      "---  ------         --------------  -----  \n",
      " 0   MSSubClass     1460 non-null   int64  \n",
      " 1   MSZoning       1460 non-null   object \n",
      " 2   LotFrontage    1201 non-null   float64\n",
      " 3   LotArea        1460 non-null   int64  \n",
      " 4   Street         1460 non-null   object \n",
      " 5   Alley          91 non-null     object \n",
      " 6   LotShape       1460 non-null   object \n",
      " 7   LandContour    1460 non-null   object \n",
      " 8   Utilities      1460 non-null   object \n",
      " 9   LotConfig      1460 non-null   object \n",
      " 10  LandSlope      1460 non-null   object \n",
      " 11  Neighborhood   1460 non-null   object \n",
      " 12  Condition1     1460 non-null   object \n",
      " 13  Condition2     1460 non-null   object \n",
      " 14  BldgType       1460 non-null   object \n",
      " 15  HouseStyle     1460 non-null   object \n",
      " 16  OverallQual    1460 non-null   int64  \n",
      " 17  OverallCond    1460 non-null   int64  \n",
      " 18  YearBuilt      1460 non-null   int64  \n",
      " 19  YearRemodAdd   1460 non-null   int64  \n",
      " 20  RoofStyle      1460 non-null   object \n",
      " 21  RoofMatl       1460 non-null   object \n",
      " 22  Exterior1st    1460 non-null   object \n",
      " 23  Exterior2nd    1460 non-null   object \n",
      " 24  MasVnrType     1452 non-null   object \n",
      " 25  MasVnrArea     1452 non-null   float64\n",
      " 26  ExterQual      1460 non-null   object \n",
      " 27  ExterCond      1460 non-null   object \n",
      " 28  Foundation     1460 non-null   object \n",
      " 29  BsmtQual       1423 non-null   object \n",
      " 30  BsmtCond       1423 non-null   object \n",
      " 31  BsmtExposure   1422 non-null   object \n",
      " 32  BsmtFinType1   1423 non-null   object \n",
      " 33  BsmtFinSF1     1460 non-null   int64  \n",
      " 34  BsmtFinType2   1422 non-null   object \n",
      " 35  BsmtFinSF2     1460 non-null   int64  \n",
      " 36  BsmtUnfSF      1460 non-null   int64  \n",
      " 37  TotalBsmtSF    1460 non-null   int64  \n",
      " 38  Heating        1460 non-null   object \n",
      " 39  HeatingQC      1460 non-null   object \n",
      " 40  CentralAir     1460 non-null   object \n",
      " 41  Electrical     1459 non-null   object \n",
      " 42  1stFlrSF       1460 non-null   int64  \n",
      " 43  2ndFlrSF       1460 non-null   int64  \n",
      " 44  LowQualFinSF   1460 non-null   int64  \n",
      " 45  GrLivArea      1460 non-null   int64  \n",
      " 46  BsmtFullBath   1460 non-null   int64  \n",
      " 47  BsmtHalfBath   1460 non-null   int64  \n",
      " 48  FullBath       1460 non-null   int64  \n",
      " 49  HalfBath       1460 non-null   int64  \n",
      " 50  BedroomAbvGr   1460 non-null   int64  \n",
      " 51  KitchenAbvGr   1460 non-null   int64  \n",
      " 52  KitchenQual    1460 non-null   object \n",
      " 53  TotRmsAbvGrd   1460 non-null   int64  \n",
      " 54  Functional     1460 non-null   object \n",
      " 55  Fireplaces     1460 non-null   int64  \n",
      " 56  FireplaceQu    770 non-null    object \n",
      " 57  GarageType     1379 non-null   object \n",
      " 58  GarageYrBlt    1379 non-null   float64\n",
      " 59  GarageFinish   1379 non-null   object \n",
      " 60  GarageCars     1460 non-null   int64  \n",
      " 61  GarageArea     1460 non-null   int64  \n",
      " 62  GarageQual     1379 non-null   object \n",
      " 63  GarageCond     1379 non-null   object \n",
      " 64  PavedDrive     1460 non-null   object \n",
      " 65  WoodDeckSF     1460 non-null   int64  \n",
      " 66  OpenPorchSF    1460 non-null   int64  \n",
      " 67  EnclosedPorch  1460 non-null   int64  \n",
      " 68  3SsnPorch      1460 non-null   int64  \n",
      " 69  ScreenPorch    1460 non-null   int64  \n",
      " 70  PoolArea       1460 non-null   int64  \n",
      " 71  PoolQC         7 non-null      object \n",
      " 72  Fence          281 non-null    object \n",
      " 73  MiscFeature    54 non-null     object \n",
      " 74  MiscVal        1460 non-null   int64  \n",
      " 75  MoSold         1460 non-null   int64  \n",
      " 76  YrSold         1460 non-null   int64  \n",
      " 77  SaleType       1460 non-null   object \n",
      " 78  SaleCondition  1460 non-null   object \n",
      " 79  SalePrice      1460 non-null   int64  \n",
      "dtypes: float64(3), int64(34), object(43)\n",
      "memory usage: 923.9+ KB\n"
     ]
    }
   ],
   "source": [
    "housing.info()"
   ]
  },
  {
   "cell_type": "code",
   "execution_count": 6,
   "metadata": {},
   "outputs": [],
   "source": [
    "housing = housing.drop(columns = ['Alley', 'Fence', 'MiscFeature', 'PoolQC'])"
   ]
  },
  {
   "cell_type": "markdown",
   "metadata": {},
   "source": [
    "### Visualize Data"
   ]
  },
  {
   "cell_type": "code",
   "execution_count": 7,
   "metadata": {},
   "outputs": [
    {
     "data": {
      "text/plain": [
       "array([[<matplotlib.axes._subplots.AxesSubplot object at 0x000001DBBC69C048>,\n",
       "        <matplotlib.axes._subplots.AxesSubplot object at 0x000001DBBD705438>,\n",
       "        <matplotlib.axes._subplots.AxesSubplot object at 0x000001DBBD7349E8>,\n",
       "        <matplotlib.axes._subplots.AxesSubplot object at 0x000001DBBD769F98>,\n",
       "        <matplotlib.axes._subplots.AxesSubplot object at 0x000001DBBD7A3550>,\n",
       "        <matplotlib.axes._subplots.AxesSubplot object at 0x000001DBBD7D5B00>],\n",
       "       [<matplotlib.axes._subplots.AxesSubplot object at 0x000001DBBD8150F0>,\n",
       "        <matplotlib.axes._subplots.AxesSubplot object at 0x000001DBBD8426D8>,\n",
       "        <matplotlib.axes._subplots.AxesSubplot object at 0x000001DBBD842710>,\n",
       "        <matplotlib.axes._subplots.AxesSubplot object at 0x000001DBBD8B3240>,\n",
       "        <matplotlib.axes._subplots.AxesSubplot object at 0x000001DBBD8E27F0>,\n",
       "        <matplotlib.axes._subplots.AxesSubplot object at 0x000001DBBD914DA0>],\n",
       "       [<matplotlib.axes._subplots.AxesSubplot object at 0x000001DBBD952390>,\n",
       "        <matplotlib.axes._subplots.AxesSubplot object at 0x000001DBBD980940>,\n",
       "        <matplotlib.axes._subplots.AxesSubplot object at 0x000001DBBD9B4EF0>,\n",
       "        <matplotlib.axes._subplots.AxesSubplot object at 0x000001DBBD9F14E0>,\n",
       "        <matplotlib.axes._subplots.AxesSubplot object at 0x000001DBBDA21A90>,\n",
       "        <matplotlib.axes._subplots.AxesSubplot object at 0x000001DBBDA5F080>],\n",
       "       [<matplotlib.axes._subplots.AxesSubplot object at 0x000001DBBDA8E630>,\n",
       "        <matplotlib.axes._subplots.AxesSubplot object at 0x000001DBBDABFBE0>,\n",
       "        <matplotlib.axes._subplots.AxesSubplot object at 0x000001DBBDAFE1D0>,\n",
       "        <matplotlib.axes._subplots.AxesSubplot object at 0x000001DBBDB2E780>,\n",
       "        <matplotlib.axes._subplots.AxesSubplot object at 0x000001DBBDB60D30>,\n",
       "        <matplotlib.axes._subplots.AxesSubplot object at 0x000001DBBDB9C320>],\n",
       "       [<matplotlib.axes._subplots.AxesSubplot object at 0x000001DBBDBCE8D0>,\n",
       "        <matplotlib.axes._subplots.AxesSubplot object at 0x000001DBBDBFFE80>,\n",
       "        <matplotlib.axes._subplots.AxesSubplot object at 0x000001DBBDC3C470>,\n",
       "        <matplotlib.axes._subplots.AxesSubplot object at 0x000001DBBDC6DA20>,\n",
       "        <matplotlib.axes._subplots.AxesSubplot object at 0x000001DBBDC9EFD0>,\n",
       "        <matplotlib.axes._subplots.AxesSubplot object at 0x000001DBBDCDC5C0>],\n",
       "       [<matplotlib.axes._subplots.AxesSubplot object at 0x000001DBBDD0CB70>,\n",
       "        <matplotlib.axes._subplots.AxesSubplot object at 0x000001DBBDD4A160>,\n",
       "        <matplotlib.axes._subplots.AxesSubplot object at 0x000001DBBDD77710>,\n",
       "        <matplotlib.axes._subplots.AxesSubplot object at 0x000001DBBDDACCC0>,\n",
       "        <matplotlib.axes._subplots.AxesSubplot object at 0x000001DBBDDEA2B0>,\n",
       "        <matplotlib.axes._subplots.AxesSubplot object at 0x000001DBBDE18860>],\n",
       "       [<matplotlib.axes._subplots.AxesSubplot object at 0x000001DBBDE4CE10>,\n",
       "        <matplotlib.axes._subplots.AxesSubplot object at 0x000001DBBDE8A400>,\n",
       "        <matplotlib.axes._subplots.AxesSubplot object at 0x000001DBBDEB89B0>,\n",
       "        <matplotlib.axes._subplots.AxesSubplot object at 0x000001DBBDEEBF60>,\n",
       "        <matplotlib.axes._subplots.AxesSubplot object at 0x000001DBBDF26550>,\n",
       "        <matplotlib.axes._subplots.AxesSubplot object at 0x000001DBBDF57B00>]],\n",
       "      dtype=object)"
      ]
     },
     "execution_count": 7,
     "metadata": {},
     "output_type": "execute_result"
    },
    {
     "data": {
      "image/png": "[encoded data removed]",
      "text/plain": [
       "<Figure size 1440x1080 with 42 Axes>"
      ]
     },
     "metadata": {
      "needs_background": "light"
     },
     "output_type": "display_data"
    }
   ],
   "source": [
    "%matplotlib inline\n",
    "housing.hist(bins=50, figsize=(20,15))"
   ]
  },
  {
   "cell_type": "code",
   "execution_count": 8,
   "metadata": {},
   "outputs": [],
   "source": [
    "corr_matrix = housing.corr()"
   ]
  },
  {
   "cell_type": "code",
   "execution_count": 9,
   "metadata": {},
   "outputs": [
    {
     "data": {
      "text/plain": [
       "SalePrice        1.000000\n",
       "OverallQual      0.790982\n",
       "GrLivArea        0.708624\n",
       "GarageCars       0.640409\n",
       "GarageArea       0.623431\n",
       "TotalBsmtSF      0.613581\n",
       "1stFlrSF         0.605852\n",
       "FullBath         0.560664\n",
       "TotRmsAbvGrd     0.533723\n",
       "YearBuilt        0.522897\n",
       "YearRemodAdd     0.507101\n",
       "GarageYrBlt      0.486362\n",
       "MasVnrArea       0.477493\n",
       "Fireplaces       0.466929\n",
       "BsmtFinSF1       0.386420\n",
       "LotFrontage      0.351799\n",
       "WoodDeckSF       0.324413\n",
       "2ndFlrSF         0.319334\n",
       "OpenPorchSF      0.315856\n",
       "HalfBath         0.284108\n",
       "LotArea          0.263843\n",
       "BsmtFullBath     0.227122\n",
       "BsmtUnfSF        0.214479\n",
       "BedroomAbvGr     0.168213\n",
       "ScreenPorch      0.111447\n",
       "PoolArea         0.092404\n",
       "MoSold           0.046432\n",
       "3SsnPorch        0.044584\n",
       "BsmtFinSF2      -0.011378\n",
       "BsmtHalfBath    -0.016844\n",
       "MiscVal         -0.021190\n",
       "LowQualFinSF    -0.025606\n",
       "YrSold          -0.028923\n",
       "OverallCond     -0.077856\n",
       "MSSubClass      -0.084284\n",
       "EnclosedPorch   -0.128578\n",
       "KitchenAbvGr    -0.135907\n",
       "Name: SalePrice, dtype: float64"
      ]
     },
     "execution_count": 9,
     "metadata": {},
     "output_type": "execute_result"
    }
   ],
   "source": [
    "corr_matrix['SalePrice'].sort_values(ascending=False)"
   ]
  },
  {
   "cell_type": "markdown",
   "metadata": {},
   "source": [
    "### Train and Test Split"
   ]
  },
  {
   "cell_type": "code",
   "execution_count": 10,
   "metadata": {},
   "outputs": [],
   "source": [
    "train, test = train_test_split(housing, test_size=0.2, random_state=42)"
   ]
  },
  {
   "cell_type": "code",
   "execution_count": 11,
   "metadata": {},
   "outputs": [],
   "source": [
    "train_labels = train[\"SalePrice\"].copy()\n",
    "X_train = train.drop(\"SalePrice\", axis=1)"
   ]
  },
  {
   "cell_type": "markdown",
   "metadata": {},
   "source": [
    "### Preprocessing Pipelines"
   ]
  },
  {
   "cell_type": "code",
   "execution_count": 12,
   "metadata": {},
   "outputs": [],
   "source": [
    "housing_num = X_train.select_dtypes(include=[np.number])"
   ]
  },
  {
   "cell_type": "code",
   "execution_count": 13,
   "metadata": {},
   "outputs": [],
   "source": [
    "num_pipeline = Pipeline([\n",
    "('imputer', SimpleImputer(strategy=\"mean\")),\n",
    "('std_scaler', StandardScaler()),\n",
    "])\n",
    "housing_num_tr = num_pipeline.fit_transform(housing_num)"
   ]
  },
  {
   "cell_type": "code",
   "execution_count": 14,
   "metadata": {},
   "outputs": [
    {
     "data": {
      "text/plain": [
       "array([[-0.8667643 , -0.01531368, -0.21289571, ..., -0.09274033,\n",
       "        -0.13341669,  1.65006527],\n",
       "       [ 0.07410996, -0.50521084, -0.26524463, ..., -0.09274033,\n",
       "        -0.5080097 ,  0.89367742],\n",
       "       [-0.63154574, -0.14892199, -0.17784146, ..., -0.09274033,\n",
       "        -0.5080097 ,  0.13728958],\n",
       "       ...,\n",
       "       [-0.8667643 , -0.46067473, -0.23409563, ..., -0.09274033,\n",
       "        -0.88260272, -1.37548612],\n",
       "       [-0.16110861, -0.68335526, -0.28337613, ..., -0.09274033,\n",
       "        -0.13341669, -0.61909827],\n",
       "       [ 1.48542135, -0.77242747, -0.65139925, ..., -0.09274033,\n",
       "        -0.13341669,  0.89367742]])"
      ]
     },
     "execution_count": 14,
     "metadata": {},
     "output_type": "execute_result"
    }
   ],
   "source": [
    "housing_num_tr"
   ]
  },
  {
   "cell_type": "code",
   "execution_count": 15,
   "metadata": {},
   "outputs": [
    {
     "data": {
      "text/html": [
       "<div>\n",
       "<style scoped>\n",
       "    .dataframe tbody tr th:only-of-type {\n",
       "        vertical-align: middle;\n",
       "    }\n",
       "\n",
       "    .dataframe tbody tr th {\n",
       "        vertical-align: top;\n",
       "    }\n",
       "\n",
       "    .dataframe thead th {\n",
       "        text-align: right;\n",
       "    }\n",
       "</style>\n",
       "<table border=\"1\" class=\"dataframe\">\n",
       "  <thead>\n",
       "    <tr style=\"text-align: right;\">\n",
       "      <th></th>\n",
       "      <th>LotShape</th>\n",
       "      <th>LandContour</th>\n",
       "      <th>LandSlope</th>\n",
       "      <th>KitchenQual</th>\n",
       "      <th>FireplaceQu</th>\n",
       "      <th>GarageQual</th>\n",
       "      <th>GarageCond</th>\n",
       "    </tr>\n",
       "    <tr>\n",
       "      <th>Id</th>\n",
       "      <th></th>\n",
       "      <th></th>\n",
       "      <th></th>\n",
       "      <th></th>\n",
       "      <th></th>\n",
       "      <th></th>\n",
       "      <th></th>\n",
       "    </tr>\n",
       "  </thead>\n",
       "  <tbody>\n",
       "    <tr>\n",
       "      <th>255</th>\n",
       "      <td>Reg</td>\n",
       "      <td>Lvl</td>\n",
       "      <td>Gtl</td>\n",
       "      <td>TA</td>\n",
       "      <td>NaN</td>\n",
       "      <td>TA</td>\n",
       "      <td>TA</td>\n",
       "    </tr>\n",
       "    <tr>\n",
       "      <th>1067</th>\n",
       "      <td>IR1</td>\n",
       "      <td>Lvl</td>\n",
       "      <td>Gtl</td>\n",
       "      <td>TA</td>\n",
       "      <td>TA</td>\n",
       "      <td>TA</td>\n",
       "      <td>TA</td>\n",
       "    </tr>\n",
       "    <tr>\n",
       "      <th>639</th>\n",
       "      <td>Reg</td>\n",
       "      <td>Lvl</td>\n",
       "      <td>Gtl</td>\n",
       "      <td>TA</td>\n",
       "      <td>NaN</td>\n",
       "      <td>NaN</td>\n",
       "      <td>NaN</td>\n",
       "    </tr>\n",
       "    <tr>\n",
       "      <th>800</th>\n",
       "      <td>Reg</td>\n",
       "      <td>Lvl</td>\n",
       "      <td>Gtl</td>\n",
       "      <td>Gd</td>\n",
       "      <td>TA</td>\n",
       "      <td>TA</td>\n",
       "      <td>TA</td>\n",
       "    </tr>\n",
       "    <tr>\n",
       "      <th>381</th>\n",
       "      <td>Reg</td>\n",
       "      <td>Lvl</td>\n",
       "      <td>Gtl</td>\n",
       "      <td>Gd</td>\n",
       "      <td>Gd</td>\n",
       "      <td>TA</td>\n",
       "      <td>TA</td>\n",
       "    </tr>\n",
       "  </tbody>\n",
       "</table>\n",
       "</div>"
      ],
      "text/plain": [
       "     LotShape LandContour LandSlope KitchenQual FireplaceQu GarageQual  \\\n",
       "Id                                                                       \n",
       "255       Reg         Lvl       Gtl          TA         NaN         TA   \n",
       "1067      IR1         Lvl       Gtl          TA          TA         TA   \n",
       "639       Reg         Lvl       Gtl          TA         NaN        NaN   \n",
       "800       Reg         Lvl       Gtl          Gd          TA         TA   \n",
       "381       Reg         Lvl       Gtl          Gd          Gd         TA   \n",
       "\n",
       "     GarageCond  \n",
       "Id               \n",
       "255          TA  \n",
       "1067         TA  \n",
       "639         NaN  \n",
       "800          TA  \n",
       "381          TA  "
      ]
     },
     "execution_count": 15,
     "metadata": {},
     "output_type": "execute_result"
    }
   ],
   "source": [
    "housing_cat_ordinal = X_train[['LotShape', 'LandContour', 'LandSlope', 'KitchenQual', 'FireplaceQu', 'GarageQual',\n",
    "                                         'GarageCond']]\n",
    "housing_cat_ordinal.head()"
   ]
  },
  {
   "cell_type": "code",
   "execution_count": 16,
   "metadata": {},
   "outputs": [
    {
     "data": {
      "text/plain": [
       "array([[0., 0., 0., ..., 1., 2., 2.],\n",
       "       [1., 0., 0., ..., 2., 2., 2.],\n",
       "       [0., 0., 0., ..., 1., 2., 2.],\n",
       "       ...,\n",
       "       [0., 0., 0., ..., 1., 2., 2.],\n",
       "       [0., 0., 0., ..., 1., 2., 2.],\n",
       "       [0., 0., 0., ..., 2., 2., 2.]])"
      ]
     },
     "execution_count": 16,
     "metadata": {},
     "output_type": "execute_result"
    }
   ],
   "source": [
    "categories_all = [['Reg','IR1', 'IR2', 'IR3'], ['Lvl', 'Bnk', 'HLS', 'Low'], ['Gtl', 'Mod', 'Sev'], ['Ex', 'Gd', 'TA', 'Fa', 'Po'],\n",
    "                 ['Ex', 'Gd', 'TA', 'Fa', 'Po', 'NA'], ['Ex', 'Gd', 'TA', 'Fa', 'Po', 'NA'], \n",
    "                  ['Ex', 'Gd', 'TA', 'Fa', 'Po', 'NA']]\n",
    "\n",
    "cat_ordinal_pipeline = Pipeline(steps=[\n",
    "    ('imputer', SimpleImputer(strategy='most_frequent')),\n",
    "    ('encoder', OrdinalEncoder(categories = categories_all))\n",
    "    ])\n",
    "housing_cat_ordinal_tr = cat_ordinal_pipeline.fit_transform(housing_cat_ordinal)\n",
    "housing_cat_ordinal_tr"
   ]
  },
  {
   "cell_type": "code",
   "execution_count": 17,
   "metadata": {},
   "outputs": [
    {
     "data": {
      "text/plain": [
       "(1168, 7)"
      ]
     },
     "execution_count": 17,
     "metadata": {},
     "output_type": "execute_result"
    }
   ],
   "source": [
    "housing_cat_ordinal_tr.shape"
   ]
  },
  {
   "cell_type": "code",
   "execution_count": 18,
   "metadata": {},
   "outputs": [
    {
     "data": {
      "text/html": [
       "<div>\n",
       "<style scoped>\n",
       "    .dataframe tbody tr th:only-of-type {\n",
       "        vertical-align: middle;\n",
       "    }\n",
       "\n",
       "    .dataframe tbody tr th {\n",
       "        vertical-align: top;\n",
       "    }\n",
       "\n",
       "    .dataframe thead th {\n",
       "        text-align: right;\n",
       "    }\n",
       "</style>\n",
       "<table border=\"1\" class=\"dataframe\">\n",
       "  <thead>\n",
       "    <tr style=\"text-align: right;\">\n",
       "      <th></th>\n",
       "      <th>MSZoning</th>\n",
       "      <th>Street</th>\n",
       "      <th>Utilities</th>\n",
       "      <th>LotConfig</th>\n",
       "      <th>Neighborhood</th>\n",
       "      <th>Condition1</th>\n",
       "      <th>Condition2</th>\n",
       "      <th>BldgType</th>\n",
       "      <th>HouseStyle</th>\n",
       "      <th>RoofStyle</th>\n",
       "      <th>...</th>\n",
       "      <th>Heating</th>\n",
       "      <th>HeatingQC</th>\n",
       "      <th>CentralAir</th>\n",
       "      <th>Electrical</th>\n",
       "      <th>Functional</th>\n",
       "      <th>GarageType</th>\n",
       "      <th>GarageFinish</th>\n",
       "      <th>PavedDrive</th>\n",
       "      <th>SaleType</th>\n",
       "      <th>SaleCondition</th>\n",
       "    </tr>\n",
       "    <tr>\n",
       "      <th>Id</th>\n",
       "      <th></th>\n",
       "      <th></th>\n",
       "      <th></th>\n",
       "      <th></th>\n",
       "      <th></th>\n",
       "      <th></th>\n",
       "      <th></th>\n",
       "      <th></th>\n",
       "      <th></th>\n",
       "      <th></th>\n",
       "      <th></th>\n",
       "      <th></th>\n",
       "      <th></th>\n",
       "      <th></th>\n",
       "      <th></th>\n",
       "      <th></th>\n",
       "      <th></th>\n",
       "      <th></th>\n",
       "      <th></th>\n",
       "      <th></th>\n",
       "      <th></th>\n",
       "    </tr>\n",
       "  </thead>\n",
       "  <tbody>\n",
       "    <tr>\n",
       "      <th>255</th>\n",
       "      <td>RL</td>\n",
       "      <td>Pave</td>\n",
       "      <td>AllPub</td>\n",
       "      <td>Inside</td>\n",
       "      <td>NAmes</td>\n",
       "      <td>Norm</td>\n",
       "      <td>Norm</td>\n",
       "      <td>1Fam</td>\n",
       "      <td>1Story</td>\n",
       "      <td>Gable</td>\n",
       "      <td>...</td>\n",
       "      <td>GasA</td>\n",
       "      <td>TA</td>\n",
       "      <td>Y</td>\n",
       "      <td>SBrkr</td>\n",
       "      <td>Typ</td>\n",
       "      <td>Attchd</td>\n",
       "      <td>RFn</td>\n",
       "      <td>Y</td>\n",
       "      <td>WD</td>\n",
       "      <td>Normal</td>\n",
       "    </tr>\n",
       "    <tr>\n",
       "      <th>1067</th>\n",
       "      <td>RL</td>\n",
       "      <td>Pave</td>\n",
       "      <td>AllPub</td>\n",
       "      <td>Inside</td>\n",
       "      <td>Gilbert</td>\n",
       "      <td>Norm</td>\n",
       "      <td>Norm</td>\n",
       "      <td>1Fam</td>\n",
       "      <td>2Story</td>\n",
       "      <td>Gable</td>\n",
       "      <td>...</td>\n",
       "      <td>GasA</td>\n",
       "      <td>Gd</td>\n",
       "      <td>Y</td>\n",
       "      <td>SBrkr</td>\n",
       "      <td>Typ</td>\n",
       "      <td>Attchd</td>\n",
       "      <td>RFn</td>\n",
       "      <td>Y</td>\n",
       "      <td>WD</td>\n",
       "      <td>Normal</td>\n",
       "    </tr>\n",
       "    <tr>\n",
       "      <th>639</th>\n",
       "      <td>RL</td>\n",
       "      <td>Pave</td>\n",
       "      <td>AllPub</td>\n",
       "      <td>Inside</td>\n",
       "      <td>Edwards</td>\n",
       "      <td>Feedr</td>\n",
       "      <td>Norm</td>\n",
       "      <td>1Fam</td>\n",
       "      <td>1Story</td>\n",
       "      <td>Gable</td>\n",
       "      <td>...</td>\n",
       "      <td>GasA</td>\n",
       "      <td>Gd</td>\n",
       "      <td>Y</td>\n",
       "      <td>FuseA</td>\n",
       "      <td>Typ</td>\n",
       "      <td>NaN</td>\n",
       "      <td>NaN</td>\n",
       "      <td>P</td>\n",
       "      <td>WD</td>\n",
       "      <td>Normal</td>\n",
       "    </tr>\n",
       "    <tr>\n",
       "      <th>800</th>\n",
       "      <td>RL</td>\n",
       "      <td>Pave</td>\n",
       "      <td>AllPub</td>\n",
       "      <td>Corner</td>\n",
       "      <td>SWISU</td>\n",
       "      <td>Feedr</td>\n",
       "      <td>Norm</td>\n",
       "      <td>1Fam</td>\n",
       "      <td>1.5Fin</td>\n",
       "      <td>Gable</td>\n",
       "      <td>...</td>\n",
       "      <td>GasA</td>\n",
       "      <td>Ex</td>\n",
       "      <td>Y</td>\n",
       "      <td>SBrkr</td>\n",
       "      <td>Typ</td>\n",
       "      <td>Detchd</td>\n",
       "      <td>Unf</td>\n",
       "      <td>Y</td>\n",
       "      <td>WD</td>\n",
       "      <td>Normal</td>\n",
       "    </tr>\n",
       "    <tr>\n",
       "      <th>381</th>\n",
       "      <td>RL</td>\n",
       "      <td>Pave</td>\n",
       "      <td>AllPub</td>\n",
       "      <td>Inside</td>\n",
       "      <td>SWISU</td>\n",
       "      <td>Norm</td>\n",
       "      <td>Norm</td>\n",
       "      <td>1Fam</td>\n",
       "      <td>1.5Fin</td>\n",
       "      <td>Gable</td>\n",
       "      <td>...</td>\n",
       "      <td>GasA</td>\n",
       "      <td>TA</td>\n",
       "      <td>Y</td>\n",
       "      <td>SBrkr</td>\n",
       "      <td>Typ</td>\n",
       "      <td>Detchd</td>\n",
       "      <td>Unf</td>\n",
       "      <td>Y</td>\n",
       "      <td>WD</td>\n",
       "      <td>Normal</td>\n",
       "    </tr>\n",
       "  </tbody>\n",
       "</table>\n",
       "<p>5 rows × 32 columns</p>\n",
       "</div>"
      ],
      "text/plain": [
       "     MSZoning Street Utilities LotConfig Neighborhood Condition1 Condition2  \\\n",
       "Id                                                                            \n",
       "255        RL   Pave    AllPub    Inside        NAmes       Norm       Norm   \n",
       "1067       RL   Pave    AllPub    Inside      Gilbert       Norm       Norm   \n",
       "639        RL   Pave    AllPub    Inside      Edwards      Feedr       Norm   \n",
       "800        RL   Pave    AllPub    Corner        SWISU      Feedr       Norm   \n",
       "381        RL   Pave    AllPub    Inside        SWISU       Norm       Norm   \n",
       "\n",
       "     BldgType HouseStyle RoofStyle  ... Heating HeatingQC CentralAir  \\\n",
       "Id                                  ...                                \n",
       "255      1Fam     1Story     Gable  ...    GasA        TA          Y   \n",
       "1067     1Fam     2Story     Gable  ...    GasA        Gd          Y   \n",
       "639      1Fam     1Story     Gable  ...    GasA        Gd          Y   \n",
       "800      1Fam     1.5Fin     Gable  ...    GasA        Ex          Y   \n",
       "381      1Fam     1.5Fin     Gable  ...    GasA        TA          Y   \n",
       "\n",
       "     Electrical Functional GarageType GarageFinish PavedDrive SaleType  \\\n",
       "Id                                                                       \n",
       "255       SBrkr        Typ     Attchd          RFn          Y       WD   \n",
       "1067      SBrkr        Typ     Attchd          RFn          Y       WD   \n",
       "639       FuseA        Typ        NaN          NaN          P       WD   \n",
       "800       SBrkr        Typ     Detchd          Unf          Y       WD   \n",
       "381       SBrkr        Typ     Detchd          Unf          Y       WD   \n",
       "\n",
       "     SaleCondition  \n",
       "Id                  \n",
       "255         Normal  \n",
       "1067        Normal  \n",
       "639         Normal  \n",
       "800         Normal  \n",
       "381         Normal  \n",
       "\n",
       "[5 rows x 32 columns]"
      ]
     },
     "execution_count": 18,
     "metadata": {},
     "output_type": "execute_result"
    }
   ],
   "source": [
    "housing_cat = X_train.select_dtypes(exclude=[np.number])\n",
    "housing_cat_nominal = housing_cat.drop(columns = ['LotShape', 'LandContour', 'LandSlope', 'KitchenQual', 'FireplaceQu', 'GarageQual',\n",
    "                                         'GarageCond'])\n",
    "housing_cat_nominal.head()"
   ]
  },
  {
   "cell_type": "code",
   "execution_count": 19,
   "metadata": {},
   "outputs": [
    {
     "data": {
      "text/plain": [
       "<1168x216 sparse matrix of type '<class 'numpy.float64'>'\n",
       "\twith 37376 stored elements in Compressed Sparse Row format>"
      ]
     },
     "execution_count": 19,
     "metadata": {},
     "output_type": "execute_result"
    }
   ],
   "source": [
    "cat_nominal_pipeline = Pipeline(steps=[\n",
    "    ('imputer', SimpleImputer(strategy='constant', fill_value='missing')),\n",
    "    ('encoder', OneHotEncoder(handle_unknown='ignore'))])\n",
    "housing_cat_nominal_tr = cat_nominal_pipeline.fit_transform(housing_cat_nominal)\n",
    "housing_cat_nominal_tr"
   ]
  },
  {
   "cell_type": "code",
   "execution_count": 20,
   "metadata": {},
   "outputs": [],
   "source": [
    "num_attribs = list(housing_num)\n",
    "cat_nominal_attribs = list(housing_cat_nominal)\n",
    "cat_ordinal_attribs = list(housing_cat_ordinal)\n",
    "full_pipeline = ColumnTransformer([\n",
    "(\"num\", num_pipeline, num_attribs),\n",
    "(\"cat_nom\", cat_nominal_pipeline, cat_nominal_attribs),\n",
    "(\"cat_ord\", cat_ordinal_pipeline, cat_ordinal_attribs)\n",
    "])\n",
    "housing_prepared = full_pipeline.fit_transform(X_train)"
   ]
  },
  {
   "cell_type": "code",
   "execution_count": 21,
   "metadata": {},
   "outputs": [
    {
     "data": {
      "text/plain": [
       "<1168x259 sparse matrix of type '<class 'numpy.float64'>'\n",
       "\twith 84378 stored elements in Compressed Sparse Row format>"
      ]
     },
     "execution_count": 21,
     "metadata": {},
     "output_type": "execute_result"
    }
   ],
   "source": [
    "housing_prepared"
   ]
  },
  {
   "cell_type": "code",
   "execution_count": 22,
   "metadata": {},
   "outputs": [
    {
     "data": {
      "text/plain": [
       "(1168, 259)"
      ]
     },
     "execution_count": 22,
     "metadata": {},
     "output_type": "execute_result"
    }
   ],
   "source": [
    "housing_prepared.shape"
   ]
  },
  {
   "cell_type": "code",
   "execution_count": 23,
   "metadata": {},
   "outputs": [
    {
     "data": {
      "text/plain": [
       "array([[-0.8667643 , -0.01531368, -0.21289571, ...,  1.        ,\n",
       "         2.        ,  2.        ],\n",
       "       [ 0.07410996, -0.50521084, -0.26524463, ...,  2.        ,\n",
       "         2.        ,  2.        ],\n",
       "       [-0.63154574, -0.14892199, -0.17784146, ...,  1.        ,\n",
       "         2.        ,  2.        ],\n",
       "       ...,\n",
       "       [-0.8667643 , -0.46067473, -0.23409563, ...,  1.        ,\n",
       "         2.        ,  2.        ],\n",
       "       [-0.16110861, -0.68335526, -0.28337613, ...,  1.        ,\n",
       "         2.        ,  2.        ],\n",
       "       [ 1.48542135, -0.77242747, -0.65139925, ...,  2.        ,\n",
       "         2.        ,  2.        ]])"
      ]
     },
     "execution_count": 23,
     "metadata": {},
     "output_type": "execute_result"
    }
   ],
   "source": [
    "X_train_prepared = housing_prepared.toarray()\n",
    "X_train_prepared"
   ]
  },
  {
   "cell_type": "code",
   "execution_count": 24,
   "metadata": {},
   "outputs": [],
   "source": [
    "test_labels = test[\"SalePrice\"].copy()\n",
    "X_test = test.drop(\"SalePrice\", axis=1)"
   ]
  },
  {
   "cell_type": "code",
   "execution_count": 25,
   "metadata": {},
   "outputs": [],
   "source": [
    "X_test_prepared = full_pipeline.transform(X_test)\n",
    "X_test_prepared = X_test_prepared.toarray()\n",
    "test_labels = test[\"SalePrice\"].copy()"
   ]
  },
  {
   "cell_type": "markdown",
   "metadata": {},
   "source": [
    "### DNN Model With Hypertuning "
   ]
  },
  {
   "cell_type": "code",
   "execution_count": 26,
   "metadata": {},
   "outputs": [],
   "source": [
    "from keras_tuner import HyperModel\n",
    "class RegressionHyperModel(HyperModel):\n",
    "    def __init__(self, input_shape):\n",
    "        self.input_shape = input_shape\n",
    "    def build(self, hp):\n",
    "        model = Sequential()\n",
    "        model.add(\n",
    "            layers.Dense(\n",
    "                units=hp.Int('units', 200, 560, 8),\n",
    "                activation='relu',\n",
    "                input_shape=input_shape\n",
    "            )\n",
    "        )\n",
    "        \n",
    "        model.add(\n",
    "            layers.Dropout(\n",
    "                hp.Float(\n",
    "                    'dropout',\n",
    "                    min_value=0.0,\n",
    "                    max_value=0.1,\n",
    "                    default=0.005,\n",
    "                    step=0.01)\n",
    "            )\n",
    "        )\n",
    "        \n",
    "        \n",
    "        model.add(\n",
    "            layers.Dense(\n",
    "                units=hp.Int('units', 200, 560, 8),\n",
    "                activation='relu'\n",
    "            )\n",
    "        )\n",
    "\n",
    "        model.add(\n",
    "            layers.Dropout(\n",
    "                hp.Float(\n",
    "                    'dropout',\n",
    "                    min_value=0.0,\n",
    "                    max_value=0.1,\n",
    "                    default=0.005,\n",
    "                    step=0.01)\n",
    "            )\n",
    "        )\n",
    "        \n",
    "                \n",
    "        model.add(layers.Dense(1))\n",
    "        \n",
    "        \n",
    "        hp_learning_rate = hp.Choice('learning_rate', values=[1e-2, 1e-3, 1e-4])\n",
    "        model.compile(loss='mean_squared_error',\n",
    "                optimizer=tf.keras.optimizers.Adam(learning_rate=hp_learning_rate), metrics=['mean_squared_error'])\n",
    "        \n",
    "        \n",
    "        return model"
   ]
  },
  {
   "cell_type": "code",
   "execution_count": 27,
   "metadata": {},
   "outputs": [],
   "source": [
    "input_shape = (X_train_prepared.shape[1],)\n",
    "hypermodel = RegressionHyperModel(input_shape)"
   ]
  },
  {
   "cell_type": "code",
   "execution_count": 28,
   "metadata": {},
   "outputs": [
    {
     "name": "stdout",
     "output_type": "stream",
     "text": [
      "INFO:tensorflow:Reloading Oracle from existing project .\\untitled_project\\oracle.json\n",
      "INFO:tensorflow:Reloading Tuner from .\\untitled_project\\tuner0.json\n",
      "INFO:tensorflow:Oracle triggered exit\n",
      "10/10 [==============================] - 1s 4ms/step - loss: 778038976.0000 - mean_squared_error: 778038976.0000\n"
     ]
    },
    {
     "data": {
      "text/plain": [
       "[778038976.0, 778038976.0]"
      ]
     },
     "execution_count": 28,
     "metadata": {},
     "output_type": "execute_result"
    }
   ],
   "source": [
    "from keras_tuner import BayesianOptimization\n",
    "\n",
    "tuner_bo = BayesianOptimization(\n",
    "            hypermodel,\n",
    "            objective='val_mean_squared_error',\n",
    "            max_trials=50,\n",
    "            seed=42,\n",
    "            executions_per_trial=2\n",
    "        )\n",
    "stop_early = tf.keras.callbacks.EarlyStopping(monitor='val_mean_squared_error', patience=30)\n",
    "tuner_bo.search(X_train_prepared, train_labels, epochs=100, validation_split=0.2, verbose=0, callbacks=[stop_early])\n",
    "best_model = tuner_bo.get_best_models(num_models=1)[0]\n",
    "evaluation = best_model.evaluate(X_test_prepared, test_labels)\n",
    "evaluation"
   ]
  },
  {
   "cell_type": "code",
   "execution_count": 29,
   "metadata": {},
   "outputs": [
    {
     "name": "stdout",
     "output_type": "stream",
     "text": [
      "Model: \"sequential\"\n",
      "_________________________________________________________________\n",
      "Layer (type)                 Output Shape              Param #   \n",
      "=================================================================\n",
      "dense (Dense)                (None, 200)               52000     \n",
      "_________________________________________________________________\n",
      "dropout (Dropout)            (None, 200)               0         \n",
      "_________________________________________________________________\n",
      "dense_1 (Dense)              (None, 200)               40200     \n",
      "_________________________________________________________________\n",
      "dropout_1 (Dropout)          (None, 200)               0         \n",
      "_________________________________________________________________\n",
      "dense_2 (Dense)              (None, 1)                 201       \n",
      "=================================================================\n",
      "Total params: 92,401\n",
      "Trainable params: 92,401\n",
      "Non-trainable params: 0\n",
      "_________________________________________________________________\n"
     ]
    }
   ],
   "source": [
    "best_model.summary()"
   ]
  },
  {
   "cell_type": "code",
   "execution_count": 30,
   "metadata": {},
   "outputs": [
    {
     "name": "stdout",
     "output_type": "stream",
     "text": [
      "\n",
      "The hyperparameter search is complete. The optimal number of units in th densely-connected\n",
      "layers is 200 and the optimal learning rate for the optimizer\n",
      "is 0.01.\n",
      "\n"
     ]
    }
   ],
   "source": [
    "# Get the optimal hyperparameters\n",
    "best_hps=tuner_bo.get_best_hyperparameters(num_trials=1)[0]\n",
    "print(f\"\"\"\n",
    "The hyperparameter search is complete. The optimal number of units in th densely-connected\n",
    "layers is {best_hps.get('units')} and the optimal learning rate for the optimizer\n",
    "is {best_hps.get('learning_rate')}.\n",
    "\"\"\")"
   ]
  },
  {
   "cell_type": "code",
   "execution_count": 31,
   "metadata": {},
   "outputs": [
    {
     "data": {
      "text/plain": [
       "{'dropout': 0.0, 'learning_rate': 0.01, 'units': 200}"
      ]
     },
     "execution_count": 31,
     "metadata": {},
     "output_type": "execute_result"
    }
   ],
   "source": [
    "best_hps.values"
   ]
  },
  {
   "cell_type": "code",
   "execution_count": 32,
   "metadata": {},
   "outputs": [
    {
     "name": "stdout",
     "output_type": "stream",
     "text": [
      "Epoch 1/50\n",
      "30/30 [==============================] - 1s 11ms/step - loss: 234726512.0000 - mean_squared_error: 234726512.0000 - val_loss: 390899744.0000 - val_mean_squared_error: 390899744.0000\n",
      "Epoch 2/50\n",
      "30/30 [==============================] - 0s 7ms/step - loss: 230816592.0000 - mean_squared_error: 230816592.0000 - val_loss: 386432000.0000 - val_mean_squared_error: 386432000.0000\n",
      "Epoch 3/50\n",
      "30/30 [==============================] - 0s 9ms/step - loss: 224475488.0000 - mean_squared_error: 224475488.0000 - val_loss: 378811808.0000 - val_mean_squared_error: 378811808.0000\n",
      "Epoch 4/50\n",
      "30/30 [==============================] - 0s 6ms/step - loss: 214657824.0000 - mean_squared_error: 214657824.0000 - val_loss: 388189632.0000 - val_mean_squared_error: 388189632.0000\n",
      "Epoch 5/50\n",
      "30/30 [==============================] - 0s 7ms/step - loss: 213878128.0000 - mean_squared_error: 213878128.0000 - val_loss: 399049952.0000 - val_mean_squared_error: 399049952.0000\n",
      "Epoch 6/50\n",
      "30/30 [==============================] - 0s 6ms/step - loss: 205369808.0000 - mean_squared_error: 205369808.0000 - val_loss: 386260704.0000 - val_mean_squared_error: 386260704.0000\n",
      "Epoch 7/50\n",
      "30/30 [==============================] - 0s 6ms/step - loss: 213777840.0000 - mean_squared_error: 213777840.0000 - val_loss: 408630976.0000 - val_mean_squared_error: 408630976.0000\n",
      "Epoch 8/50\n",
      "30/30 [==============================] - 0s 7ms/step - loss: 200950704.0000 - mean_squared_error: 200950704.0000 - val_loss: 387922784.0000 - val_mean_squared_error: 387922784.0000\n",
      "Epoch 9/50\n",
      "30/30 [==============================] - 0s 6ms/step - loss: 203565664.0000 - mean_squared_error: 203565664.0000 - val_loss: 388823648.0000 - val_mean_squared_error: 388823648.0000\n",
      "Epoch 10/50\n",
      "30/30 [==============================] - 0s 6ms/step - loss: 193218000.0000 - mean_squared_error: 193218000.0000 - val_loss: 397495040.0000 - val_mean_squared_error: 397495040.0000\n",
      "Epoch 11/50\n",
      "30/30 [==============================] - 0s 5ms/step - loss: 206825088.0000 - mean_squared_error: 206825088.0000 - val_loss: 399146176.0000 - val_mean_squared_error: 399146176.0000\n",
      "Epoch 12/50\n",
      "30/30 [==============================] - 0s 5ms/step - loss: 197668880.0000 - mean_squared_error: 197668880.0000 - val_loss: 441358784.0000 - val_mean_squared_error: 441358784.0000\n",
      "Epoch 13/50\n",
      "30/30 [==============================] - 0s 5ms/step - loss: 213499216.0000 - mean_squared_error: 213499216.0000 - val_loss: 392616640.0000 - val_mean_squared_error: 392616640.0000\n",
      "Epoch 14/50\n",
      "30/30 [==============================] - 0s 6ms/step - loss: 189269952.0000 - mean_squared_error: 189269952.0000 - val_loss: 392925408.0000 - val_mean_squared_error: 392925408.0000\n",
      "Epoch 15/50\n",
      "30/30 [==============================] - 0s 5ms/step - loss: 189010624.0000 - mean_squared_error: 189010624.0000 - val_loss: 408173216.0000 - val_mean_squared_error: 408173216.0000\n",
      "Epoch 16/50\n",
      "30/30 [==============================] - 0s 5ms/step - loss: 185840976.0000 - mean_squared_error: 185840976.0000 - val_loss: 407135392.0000 - val_mean_squared_error: 407135392.0000\n",
      "Epoch 17/50\n",
      "30/30 [==============================] - 0s 5ms/step - loss: 186058304.0000 - mean_squared_error: 186058304.0000 - val_loss: 422040768.0000 - val_mean_squared_error: 422040768.0000\n",
      "Epoch 18/50\n",
      "30/30 [==============================] - 0s 5ms/step - loss: 197599264.0000 - mean_squared_error: 197599264.0000 - val_loss: 400932096.0000 - val_mean_squared_error: 400932096.0000\n",
      "Epoch 19/50\n",
      "30/30 [==============================] - 0s 5ms/step - loss: 182775888.0000 - mean_squared_error: 182775888.0000 - val_loss: 409363520.0000 - val_mean_squared_error: 409363520.0000\n",
      "Epoch 20/50\n",
      "30/30 [==============================] - 0s 6ms/step - loss: 175566080.0000 - mean_squared_error: 175566080.0000 - val_loss: 402785280.0000 - val_mean_squared_error: 402785280.0000\n",
      "Epoch 21/50\n",
      "30/30 [==============================] - 0s 5ms/step - loss: 169502480.0000 - mean_squared_error: 169502480.0000 - val_loss: 402611104.0000 - val_mean_squared_error: 402611104.0000\n",
      "Epoch 22/50\n",
      "30/30 [==============================] - 0s 5ms/step - loss: 176614624.0000 - mean_squared_error: 176614624.0000 - val_loss: 405365568.0000 - val_mean_squared_error: 405365568.0000\n",
      "Epoch 23/50\n",
      "30/30 [==============================] - 0s 5ms/step - loss: 174290480.0000 - mean_squared_error: 174290480.0000 - val_loss: 431034624.0000 - val_mean_squared_error: 431034624.0000\n",
      "Epoch 24/50\n",
      "30/30 [==============================] - 0s 5ms/step - loss: 178829328.0000 - mean_squared_error: 178829328.0000 - val_loss: 409080320.0000 - val_mean_squared_error: 409080320.0000\n",
      "Epoch 25/50\n",
      "30/30 [==============================] - 0s 5ms/step - loss: 160907936.0000 - mean_squared_error: 160907936.0000 - val_loss: 404302240.0000 - val_mean_squared_error: 404302240.0000\n",
      "Epoch 26/50\n",
      "30/30 [==============================] - 0s 6ms/step - loss: 166930800.0000 - mean_squared_error: 166930800.0000 - val_loss: 421001472.0000 - val_mean_squared_error: 421001472.0000\n",
      "Epoch 27/50\n",
      "30/30 [==============================] - 0s 5ms/step - loss: 165091552.0000 - mean_squared_error: 165091552.0000 - val_loss: 399199552.0000 - val_mean_squared_error: 399199552.0000\n",
      "Epoch 28/50\n",
      "30/30 [==============================] - 0s 5ms/step - loss: 156186784.0000 - mean_squared_error: 156186784.0000 - val_loss: 411855936.0000 - val_mean_squared_error: 411855936.0000\n",
      "Epoch 29/50\n",
      "30/30 [==============================] - 0s 5ms/step - loss: 155889760.0000 - mean_squared_error: 155889760.0000 - val_loss: 416451712.0000 - val_mean_squared_error: 416451712.0000\n",
      "Epoch 30/50\n",
      "30/30 [==============================] - 0s 5ms/step - loss: 156820384.0000 - mean_squared_error: 156820384.0000 - val_loss: 434617984.0000 - val_mean_squared_error: 434617984.0000\n",
      "Epoch 31/50\n",
      "30/30 [==============================] - 0s 5ms/step - loss: 175889152.0000 - mean_squared_error: 175889152.0000 - val_loss: 422511712.0000 - val_mean_squared_error: 422511712.0000\n",
      "Epoch 32/50\n",
      "30/30 [==============================] - 0s 5ms/step - loss: 166471488.0000 - mean_squared_error: 166471488.0000 - val_loss: 446379488.0000 - val_mean_squared_error: 446379488.0000\n",
      "Epoch 33/50\n",
      "30/30 [==============================] - 0s 6ms/step - loss: 149804496.0000 - mean_squared_error: 149804496.0000 - val_loss: 413102336.0000 - val_mean_squared_error: 413102336.0000\n",
      "Epoch 34/50\n",
      "30/30 [==============================] - 0s 5ms/step - loss: 146613264.0000 - mean_squared_error: 146613264.0000 - val_loss: 423991168.0000 - val_mean_squared_error: 423991168.0000\n",
      "Epoch 35/50\n",
      "30/30 [==============================] - 0s 5ms/step - loss: 145062960.0000 - mean_squared_error: 145062960.0000 - val_loss: 418122560.0000 - val_mean_squared_error: 418122560.0000\n",
      "Epoch 36/50\n",
      "30/30 [==============================] - 0s 5ms/step - loss: 149042352.0000 - mean_squared_error: 149042352.0000 - val_loss: 465333184.0000 - val_mean_squared_error: 465333184.0000\n",
      "Epoch 37/50\n",
      "30/30 [==============================] - 0s 5ms/step - loss: 149976256.0000 - mean_squared_error: 149976256.0000 - val_loss: 424250816.0000 - val_mean_squared_error: 424250816.0000\n",
      "Epoch 38/50\n",
      "30/30 [==============================] - 0s 5ms/step - loss: 146497680.0000 - mean_squared_error: 146497680.0000 - val_loss: 433729920.0000 - val_mean_squared_error: 433729920.0000\n",
      "Epoch 39/50\n",
      "30/30 [==============================] - 0s 6ms/step - loss: 152321488.0000 - mean_squared_error: 152321488.0000 - val_loss: 436125088.0000 - val_mean_squared_error: 436125088.0000\n",
      "Epoch 40/50\n",
      "30/30 [==============================] - 0s 5ms/step - loss: 145167584.0000 - mean_squared_error: 145167584.0000 - val_loss: 457647136.0000 - val_mean_squared_error: 457647136.0000\n",
      "Epoch 41/50\n",
      "30/30 [==============================] - 0s 6ms/step - loss: 153084688.0000 - mean_squared_error: 153084688.0000 - val_loss: 421464192.0000 - val_mean_squared_error: 421464192.0000\n",
      "Epoch 42/50\n",
      "30/30 [==============================] - 0s 6ms/step - loss: 138990032.0000 - mean_squared_error: 138990032.0000 - val_loss: 418202720.0000 - val_mean_squared_error: 418202720.0000\n",
      "Epoch 43/50\n"
     ]
    },
    {
     "name": "stdout",
     "output_type": "stream",
     "text": [
      "30/30 [==============================] - 0s 6ms/step - loss: 137239168.0000 - mean_squared_error: 137239168.0000 - val_loss: 453197408.0000 - val_mean_squared_error: 453197408.0000\n",
      "Epoch 44/50\n",
      "30/30 [==============================] - 0s 5ms/step - loss: 139770736.0000 - mean_squared_error: 139770736.0000 - val_loss: 424060448.0000 - val_mean_squared_error: 424060448.0000\n",
      "Epoch 45/50\n",
      "30/30 [==============================] - 0s 6ms/step - loss: 133889696.0000 - mean_squared_error: 133889696.0000 - val_loss: 432299264.0000 - val_mean_squared_error: 432299264.0000\n",
      "Epoch 46/50\n",
      "30/30 [==============================] - 0s 5ms/step - loss: 131884992.0000 - mean_squared_error: 131884992.0000 - val_loss: 431809280.0000 - val_mean_squared_error: 431809280.0000\n",
      "Epoch 47/50\n",
      "30/30 [==============================] - 0s 5ms/step - loss: 131680008.0000 - mean_squared_error: 131680008.0000 - val_loss: 438397952.0000 - val_mean_squared_error: 438397952.0000\n",
      "Epoch 48/50\n",
      "30/30 [==============================] - 0s 6ms/step - loss: 126063104.0000 - mean_squared_error: 126063104.0000 - val_loss: 426803840.0000 - val_mean_squared_error: 426803840.0000\n",
      "Epoch 49/50\n",
      "30/30 [==============================] - 0s 5ms/step - loss: 125565680.0000 - mean_squared_error: 125565680.0000 - val_loss: 469162208.0000 - val_mean_squared_error: 469162208.0000\n",
      "Epoch 50/50\n",
      "30/30 [==============================] - 0s 6ms/step - loss: 136489264.0000 - mean_squared_error: 136489264.0000 - val_loss: 438643872.0000 - val_mean_squared_error: 438643872.0000\n",
      "Best epoch: 3\n"
     ]
    }
   ],
   "source": [
    "# Build the model with the optimal hyperparameters and train it on the data for 100 epochs\n",
    "history = best_model.fit(X_train_prepared, train_labels, epochs=50, validation_split=0.2)\n",
    "\n",
    "val_loss_per_epoch = history.history['val_loss']\n",
    "best_epoch = val_loss_per_epoch.index(min(val_loss_per_epoch)) + 1\n",
    "print('Best epoch: %d' % (best_epoch,))"
   ]
  },
  {
   "cell_type": "code",
   "execution_count": 33,
   "metadata": {},
   "outputs": [
    {
     "name": "stdout",
     "output_type": "stream",
     "text": [
      "Epoch 1/3\n",
      "30/30 [==============================] - 0s 13ms/step - loss: 123557176.0000 - mean_squared_error: 123557176.0000 - val_loss: 454237344.0000 - val_mean_squared_error: 454237344.0000\n",
      "Epoch 2/3\n",
      "30/30 [==============================] - 0s 9ms/step - loss: 125224816.0000 - mean_squared_error: 125224816.0000 - val_loss: 435786688.0000 - val_mean_squared_error: 435786688.0000\n",
      "Epoch 3/3\n",
      "30/30 [==============================] - 0s 8ms/step - loss: 120031976.0000 - mean_squared_error: 120031976.0000 - val_loss: 458793024.0000 - val_mean_squared_error: 458793024.0000\n"
     ]
    }
   ],
   "source": [
    "history = best_model.fit(X_train_prepared, train_labels, epochs=best_epoch, validation_split=0.2)"
   ]
  },
  {
   "cell_type": "code",
   "execution_count": 34,
   "metadata": {},
   "outputs": [
    {
     "name": "stdout",
     "output_type": "stream",
     "text": [
      "10/10 [==============================] - 0s 3ms/step - loss: 775527680.0000 - mean_squared_error: 775527680.0000\n"
     ]
    },
    {
     "data": {
      "text/plain": [
       "[775527680.0, 775527680.0]"
      ]
     },
     "execution_count": 34,
     "metadata": {},
     "output_type": "execute_result"
    }
   ],
   "source": [
    "eval_result = best_model.evaluate(X_test_prepared, test_labels)\n",
    "eval_result"
   ]
  },
  {
   "cell_type": "code",
   "execution_count": 35,
   "metadata": {},
   "outputs": [],
   "source": [
    "def plot_loss(history):\n",
    "  plt.plot(history.history['loss'], label='loss')\n",
    "  plt.plot(history.history['val_loss'], label='val_loss')\n",
    "  plt.ylim([0, 808811072])\n",
    "  plt.xlabel('Epoch')\n",
    "  plt.ylabel('Error')\n",
    "  plt.legend()\n",
    "  plt.grid(True)"
   ]
  },
  {
   "cell_type": "code",
   "execution_count": 36,
   "metadata": {},
   "outputs": [
    {
     "data": {
      "image/png": "[encoded data removed]",
      "text/plain": [
       "<Figure size 432x288 with 1 Axes>"
      ]
     },
     "metadata": {
      "needs_background": "light"
     },
     "output_type": "display_data"
    }
   ],
   "source": [
    "plot_loss(history)"
   ]
  },
  {
   "cell_type": "code",
   "execution_count": 37,
   "metadata": {},
   "outputs": [
    {
     "data": {
      "image/png": "[encoded data removed]",
      "text/plain": [
       "<Figure size 432x288 with 1 Axes>"
      ]
     },
     "metadata": {
      "needs_background": "light"
     },
     "output_type": "display_data"
    }
   ],
   "source": [
    "test_predictions = best_model.predict(X_test_prepared).flatten()\n",
    "\n",
    "a = plt.axes(aspect='equal')\n",
    "plt.scatter(test_labels, test_predictions)\n",
    "plt.xlabel('True Values [Target]')\n",
    "plt.ylabel('Predictions [Target]')\n",
    "lims = [0, 500000]\n",
    "plt.xlim(lims)\n",
    "plt.ylim(lims)\n",
    "_ = plt.plot(lims, lims)"
   ]
  },
  {
   "cell_type": "code",
   "execution_count": 38,
   "metadata": {},
   "outputs": [
    {
     "data": {
      "text/plain": [
       "0.14292139303807966"
      ]
     },
     "execution_count": 38,
     "metadata": {},
     "output_type": "execute_result"
    }
   ],
   "source": [
    "from sklearn.metrics import mean_squared_log_error\n",
    "\n",
    "np.sqrt(mean_squared_log_error(test_labels, test_predictions))"
   ]
  },
  {
   "cell_type": "code",
   "execution_count": null,
   "metadata": {},
   "outputs": [],
   "source": []
  }
 ],
 "metadata": {
  "kernelspec": {
   "display_name": "Python 3",
   "language": "python",
   "name": "python3"
  },
  "language_info": {
   "codemirror_mode": {
    "name": "ipython",
    "version": 3
   },
   "file_extension": ".py",
   "mimetype": "text/x-python",
   "name": "python",
   "nbconvert_exporter": "python",
   "pygments_lexer": "ipython3",
   "version": "3.7.3"
  }
 },
 "nbformat": 4,
 "nbformat_minor": 2
}
